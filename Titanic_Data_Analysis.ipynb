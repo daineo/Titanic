{
  "nbformat": 4,
  "nbformat_minor": 0,
  "metadata": {
    "colab": {
      "provenance": [],
      "authorship_tag": "ABX9TyORfxv6f2TN+2q6FgDhz5Vw"
    },
    "kernelspec": {
      "name": "python3",
      "display_name": "Python 3"
    },
    "language_info": {
      "name": "python"
    }
  },
  "cells": [
    {
      "cell_type": "markdown",
      "source": [
        "Data Loading and Exploration"
      ],
      "metadata": {
        "id": "AjgMb0qjFbO8"
      }
    },
    {
      "cell_type": "code",
      "execution_count": null,
      "metadata": {
        "colab": {
          "base_uri": "https://localhost:8080/"
        },
        "id": "jbsqwtKwFMxE",
        "outputId": "8a677ece-2f98-442a-f36e-505d61e63163"
      },
      "outputs": [
        {
          "output_type": "stream",
          "name": "stdout",
          "text": [
            "  PassengerId HomePlanet CryoSleep  Cabin  Destination   Age    VIP  \\\n",
            "0     0001_01     Europa     False  B/0/P  TRAPPIST-1e  39.0  False   \n",
            "1     0002_01      Earth     False  F/0/S  TRAPPIST-1e  24.0  False   \n",
            "2     0003_01     Europa     False  A/0/S  TRAPPIST-1e  58.0   True   \n",
            "3     0003_02     Europa     False  A/0/S  TRAPPIST-1e  33.0  False   \n",
            "4     0004_01      Earth     False  F/1/S  TRAPPIST-1e  16.0  False   \n",
            "\n",
            "   RoomService  FoodCourt  ShoppingMall     Spa  VRDeck               Name  \\\n",
            "0          0.0        0.0           0.0     0.0     0.0    Maham Ofracculy   \n",
            "1        109.0        9.0          25.0   549.0    44.0       Juanna Vines   \n",
            "2         43.0     3576.0           0.0  6715.0    49.0      Altark Susent   \n",
            "3          0.0     1283.0         371.0  3329.0   193.0       Solam Susent   \n",
            "4        303.0       70.0         151.0   565.0     2.0  Willy Santantines   \n",
            "\n",
            "   Transported  \n",
            "0        False  \n",
            "1         True  \n",
            "2        False  \n",
            "3        False  \n",
            "4         True  \n",
            "PassengerId       0\n",
            "HomePlanet      201\n",
            "CryoSleep       217\n",
            "Cabin           199\n",
            "Destination     182\n",
            "Age             179\n",
            "VIP             203\n",
            "RoomService     181\n",
            "FoodCourt       183\n",
            "ShoppingMall    208\n",
            "Spa             183\n",
            "VRDeck          188\n",
            "Name            200\n",
            "Transported       0\n",
            "dtype: int64\n",
            "               Age   RoomService     FoodCourt  ShoppingMall           Spa  \\\n",
            "count  8514.000000   8512.000000   8510.000000   8485.000000   8510.000000   \n",
            "mean     28.827930    224.687617    458.077203    173.729169    311.138778   \n",
            "std      14.489021    666.717663   1611.489240    604.696458   1136.705535   \n",
            "min       0.000000      0.000000      0.000000      0.000000      0.000000   \n",
            "25%      19.000000      0.000000      0.000000      0.000000      0.000000   \n",
            "50%      27.000000      0.000000      0.000000      0.000000      0.000000   \n",
            "75%      38.000000     47.000000     76.000000     27.000000     59.000000   \n",
            "max      79.000000  14327.000000  29813.000000  23492.000000  22408.000000   \n",
            "\n",
            "             VRDeck  \n",
            "count   8505.000000  \n",
            "mean     304.854791  \n",
            "std     1145.717189  \n",
            "min        0.000000  \n",
            "25%        0.000000  \n",
            "50%        0.000000  \n",
            "75%       46.000000  \n",
            "max    24133.000000  \n"
          ]
        }
      ],
      "source": [
        "import pandas as pd\n",
        "import numpy as np\n",
        "from sklearn.model_selection import train_test_split\n",
        "from sklearn.preprocessing import StandardScaler, LabelEncoder\n",
        "from sklearn.ensemble import RandomForestClassifier\n",
        "from sklearn.metrics import accuracy_score, classification_report\n",
        "\n",
        "# Load the training data\n",
        "train_data = pd.read_csv('/train[1].csv')\n",
        "\n",
        "# Display the first few rows of the dataframe\n",
        "print(train_data.head())\n",
        "\n",
        "# Check for missing values\n",
        "print(train_data.isnull().sum())\n",
        "\n",
        "# Basic statistics of the data\n",
        "print(train_data.describe())\n"
      ]
    },
    {
      "cell_type": "markdown",
      "source": [
        "Data Preprocessing"
      ],
      "metadata": {
        "id": "GJd_xut8FYTf"
      }
    },
    {
      "cell_type": "code",
      "source": [
        "# Fill missing values for CryoSleep and VIP with the mode (most frequent value)\n",
        "train_data['CryoSleep'].fillna(train_data['CryoSleep'].mode()[0], inplace=True)\n",
        "train_data['VIP'].fillna(train_data['VIP'].mode()[0], inplace=True)\n",
        "\n",
        "# Fill missing values for Age with the median\n",
        "train_data['Age'].fillna(train_data['Age'].median(), inplace=True)\n",
        "\n",
        "# Fill missing values for HomePlanet, Cabin, and Destination with the mode\n",
        "train_data['HomePlanet'].fillna(train_data['HomePlanet'].mode()[0], inplace=True)\n",
        "train_data['Cabin'].fillna(train_data['Cabin'].mode()[0], inplace=True)\n",
        "train_data['Destination'].fillna(train_data['Destination'].mode()[0], inplace=True)\n",
        "\n",
        "# Fill missing values for luxury spending with 0 (no spending)\n",
        "train_data['RoomService'].fillna(0, inplace=True)\n",
        "train_data['FoodCourt'].fillna(0, inplace=True)\n",
        "train_data['ShoppingMall'].fillna(0, inplace=True)\n",
        "train_data['Spa'].fillna(0, inplace=True)\n",
        "train_data['VRDeck'].fillna(0, inplace=True)\n",
        "\n",
        "# Drop the Name column as it is unlikely to be useful for prediction\n",
        "train_data.drop(columns=['Name'], inplace=True)\n",
        "\n",
        "# Encode categorical features\n",
        "le = LabelEncoder()\n",
        "for column in ['HomePlanet', 'CryoSleep', 'Cabin', 'Destination', 'VIP']:\n",
        "    train_data[column] = le.fit_transform(train_data[column])\n",
        "\n",
        "# Check the data types and make sure all features are numeric\n",
        "print(train_data.dtypes)\n"
      ],
      "metadata": {
        "colab": {
          "base_uri": "https://localhost:8080/"
        },
        "id": "BlLT4vLFFsfk",
        "outputId": "96003fdc-03d9-44a6-ff79-a31bedf81475"
      },
      "execution_count": null,
      "outputs": [
        {
          "output_type": "stream",
          "name": "stdout",
          "text": [
            "PassengerId      object\n",
            "HomePlanet        int64\n",
            "CryoSleep         int64\n",
            "Cabin             int64\n",
            "Destination       int64\n",
            "Age             float64\n",
            "VIP               int64\n",
            "RoomService     float64\n",
            "FoodCourt       float64\n",
            "ShoppingMall    float64\n",
            "Spa             float64\n",
            "VRDeck          float64\n",
            "Transported        bool\n",
            "dtype: object\n"
          ]
        }
      ]
    },
    {
      "cell_type": "markdown",
      "source": [
        "Model Training"
      ],
      "metadata": {
        "id": "kFbuc-kPWRMu"
      }
    },
    {
      "cell_type": "code",
      "source": [
        "# Define features and target variable\n",
        "X = train_data.drop(columns=['PassengerId', 'Transported'])\n",
        "y = train_data['Transported']\n",
        "\n",
        "# Split the data into training and validation sets\n",
        "X_train, X_val, y_train, y_val = train_test_split(X, y, test_size=0.2, random_state=42)\n",
        "\n",
        "# Standardize the numerical features\n",
        "scaler = StandardScaler()\n",
        "X_train = scaler.fit_transform(X_train)\n",
        "X_val = scaler.transform(X_val)\n",
        "\n",
        "# Train a RandomForestClassifier\n",
        "clf = RandomForestClassifier(n_estimators=100, random_state=42)\n",
        "clf.fit(X_train, y_train)\n",
        "\n",
        "# Make predictions on the validation set\n",
        "y_pred = clf.predict(X_val)\n",
        "\n",
        "# Evaluate the model\n",
        "accuracy = accuracy_score(y_val, y_pred)\n",
        "print(f'Validation Accuracy: {accuracy}')\n",
        "print(classification_report(y_val, y_pred))\n"
      ],
      "metadata": {
        "colab": {
          "base_uri": "https://localhost:8080/"
        },
        "id": "6yXYf8DnWWQe",
        "outputId": "f86fe7e6-2322-47c5-c66b-b775aee192ac"
      },
      "execution_count": null,
      "outputs": [
        {
          "output_type": "stream",
          "name": "stdout",
          "text": [
            "Validation Accuracy: 0.772857964347326\n",
            "              precision    recall  f1-score   support\n",
            "\n",
            "       False       0.75      0.80      0.78       861\n",
            "        True       0.79      0.74      0.77       878\n",
            "\n",
            "    accuracy                           0.77      1739\n",
            "   macro avg       0.77      0.77      0.77      1739\n",
            "weighted avg       0.77      0.77      0.77      1739\n",
            "\n"
          ]
        }
      ]
    },
    {
      "cell_type": "markdown",
      "source": [
        "Prediction on Test Set"
      ],
      "metadata": {
        "id": "0fkgozZZWlQ8"
      }
    },
    {
      "cell_type": "code",
      "source": [
        "# Load the test data\n",
        "test_data = pd.read_csv('/test[1].csv')\n",
        "\n",
        "# Preprocess the test data similarly\n",
        "test_data['CryoSleep'].fillna(test_data['CryoSleep'].mode()[0], inplace=True)\n",
        "test_data['VIP'].fillna(test_data['VIP'].mode()[0], inplace=True)\n",
        "test_data['Age'].fillna(test_data['Age'].median(), inplace=True)\n",
        "test_data['HomePlanet'].fillna(test_data['HomePlanet'].mode()[0], inplace=True)\n",
        "test_data['Cabin'].fillna(test_data['Cabin'].mode()[0], inplace=True)\n",
        "test_data['Destination'].fillna(test_data['Destination'].mode()[0], inplace=True)\n",
        "test_data['RoomService'].fillna(0, inplace=True)\n",
        "test_data['FoodCourt'].fillna(0, inplace=True)\n",
        "test_data['ShoppingMall'].fillna(0, inplace=True)\n",
        "test_data['Spa'].fillna(0, inplace=True)\n",
        "test_data['VRDeck'].fillna(0, inplace=True)\n",
        "\n",
        "test_data.drop(columns=['Name'], inplace=True)\n",
        "\n",
        "for column in ['HomePlanet', 'CryoSleep', 'Cabin', 'Destination', 'VIP']:\n",
        "    test_data[column] = le.fit_transform(test_data[column])\n",
        "\n",
        "# Define features\n",
        "X_test = test_data.drop(columns=['PassengerId'])\n",
        "\n",
        "# Standardize the features\n",
        "X_test = scaler.transform(X_test)\n",
        "\n",
        "# Make predictions\n",
        "test_predictions = clf.predict(X_test)\n",
        "\n",
        "# Prepare the submission file\n",
        "submission = pd.DataFrame({\n",
        "    'PassengerId': test_data['PassengerId'],\n",
        "    'Transported': test_predictions\n",
        "})\n",
        "\n",
        "submission.to_csv('submission.csv', index=False)\n"
      ],
      "metadata": {
        "id": "SI-UDPDTWs9Y"
      },
      "execution_count": null,
      "outputs": []
    },
    {
      "cell_type": "code",
      "source": [
        "Printing the submission file"
      ],
      "metadata": {
        "colab": {
          "base_uri": "https://localhost:8080/",
          "height": 106
        },
        "id": "fIZa4JPXYm2-",
        "outputId": "2357736c-9913-40c3-8801-dacd21e077bc"
      },
      "execution_count": null,
      "outputs": [
        {
          "output_type": "error",
          "ename": "SyntaxError",
          "evalue": "invalid syntax (<ipython-input-22-2644d26f5221>, line 1)",
          "traceback": [
            "\u001b[0;36m  File \u001b[0;32m\"<ipython-input-22-2644d26f5221>\"\u001b[0;36m, line \u001b[0;32m1\u001b[0m\n\u001b[0;31m    Printing the submission file\u001b[0m\n\u001b[0m             ^\u001b[0m\n\u001b[0;31mSyntaxError\u001b[0m\u001b[0;31m:\u001b[0m invalid syntax\n"
          ]
        }
      ]
    },
    {
      "cell_type": "code",
      "source": [
        "# Load the test data\n",
        "test_data = pd.read_csv('/test[1].csv')\n",
        "\n",
        "# Preprocess the test data similarly\n",
        "test_data['CryoSleep'].fillna(test_data['CryoSleep'].mode()[0], inplace=True)\n",
        "test_data['VIP'].fillna(test_data['VIP'].mode()[0], inplace=True)\n",
        "test_data['Age'].fillna(test_data['Age'].median(), inplace=True)\n",
        "test_data['HomePlanet'].fillna(test_data['HomePlanet'].mode()[0], inplace=True)\n",
        "test_data['Cabin'].fillna(test_data['Cabin'].mode()[0], inplace=True)\n",
        "test_data['Destination'].fillna(test_data['Destination'].mode()[0], inplace=True)\n",
        "test_data['RoomService'].fillna(0, inplace=True)\n",
        "test_data['FoodCourt'].fillna(0, inplace=True)\n",
        "test_data['ShoppingMall'].fillna(0, inplace=True)\n",
        "test_data['Spa'].fillna(0, inplace=True)\n",
        "test_data['VRDeck'].fillna(0, inplace=True)\n",
        "\n",
        "test_data.drop(columns=['Name'], inplace=True)\n",
        "\n",
        "for column in ['HomePlanet', 'CryoSleep', 'Cabin', 'Destination', 'VIP']:\n",
        "    test_data[column] = le.fit_transform(test_data[column])\n",
        "\n",
        "# Define features\n",
        "X_test = test_data.drop(columns=['PassengerId'])\n",
        "\n",
        "# Standardize the features\n",
        "X_test = scaler.transform(X_test)\n",
        "\n",
        "# Make predictions\n",
        "test_predictions = clf.predict(X_test)\n",
        "\n",
        "# Prepare the submission file\n",
        "submission = pd.DataFrame({\n",
        "    'PassengerId': test_data['PassengerId'],\n",
        "    'Transported': test_predictions\n",
        "})\n",
        "\n",
        "submission.to_csv('submission.csv', index=False)\n",
        "print(submission.head())\n"
      ],
      "metadata": {
        "colab": {
          "base_uri": "https://localhost:8080/"
        },
        "id": "t7DsZ6D-Yrou",
        "outputId": "5ee4c80f-2580-400c-bf16-df08c2a25d12"
      },
      "execution_count": null,
      "outputs": [
        {
          "output_type": "stream",
          "name": "stdout",
          "text": [
            "  PassengerId  Transported\n",
            "0     0013_01         True\n",
            "1     0018_01        False\n",
            "2     0019_01         True\n",
            "3     0021_01         True\n",
            "4     0023_01         True\n"
          ]
        }
      ]
    },
    {
      "cell_type": "markdown",
      "source": [
        "Downloading"
      ],
      "metadata": {
        "id": "5BrhyjQWealI"
      }
    },
    {
      "cell_type": "code",
      "source": [
        "import os\n",
        "import pandas as pd\n",
        "from sklearn.preprocessing import LabelEncoder, StandardScaler\n",
        "from sklearn.ensemble import RandomForestClassifier\n",
        "\n",
        "# Load the test data\n",
        "test_data = pd.read_csv('/test[1].csv')\n",
        "\n",
        "# Preprocess the test data similarly\n",
        "test_data['CryoSleep'].fillna(test_data['CryoSleep'].mode()[0], inplace=True)\n",
        "test_data['VIP'].fillna(test_data['VIP'].mode()[0], inplace=True)\n",
        "test_data['Age'].fillna(test_data['Age'].median(), inplace=True)\n",
        "test_data['HomePlanet'].fillna(test_data['HomePlanet'].mode()[0], inplace=True)\n",
        "test_data['Cabin'].fillna(test_data['Cabin'].mode()[0], inplace=True)\n",
        "test_data['Destination'].fillna(test_data['Destination'].mode()[0], inplace=True)\n",
        "test_data['RoomService'].fillna(0, inplace=True)\n",
        "test_data['FoodCourt'].fillna(0, inplace=True)\n",
        "test_data['ShoppingMall'].fillna(0, inplace=True)\n",
        "test_data['Spa'].fillna(0, inplace=True)\n",
        "test_data['VRDeck'].fillna(0, inplace=True)\n",
        "\n",
        "test_data.drop(columns=['Name'], inplace=True)\n",
        "\n",
        "le = LabelEncoder()\n",
        "for column in ['HomePlanet', 'CryoSleep', 'Cabin', 'Destination', 'VIP']:\n",
        "    test_data[column] = le.fit_transform(test_data[column])\n",
        "\n",
        "# Define features\n",
        "X_test = test_data.drop(columns=['PassengerId'])\n",
        "\n",
        "# Standardize the features\n",
        "scaler = StandardScaler()\n",
        "X_test = scaler.fit_transform(X_test)\n",
        "\n",
        "# Assuming clf is already trained RandomForestClassifier\n",
        "# Uncomment the next line and comment the fitting part if the clf is already trained\n",
        "# clf = RandomForestClassifier(n_estimators=100, random_state=42)\n",
        "# clf.fit(X_test, test_data['Transported'])  # Replace with actual training\n",
        "\n",
        "# Make predictions\n",
        "test_predictions = clf.predict(X_test)\n",
        "\n",
        "# Prepare the submission file\n",
        "submission = pd.DataFrame({\n",
        "    'PassengerId': test_data['PassengerId'],\n",
        "    'Transported': test_predictions\n",
        "})\n",
        "\n",
        "# Create the directory if it does not exist\n",
        "output_dir = '/mnt/data'\n",
        "os.makedirs(output_dir, exist_ok=True)\n",
        "\n",
        "# Save the submission file\n",
        "submission_file_path = os.path.join(output_dir, 'submission.csv')\n",
        "submission.to_csv(submission_file_path, index=False)\n",
        "\n",
        "# Print the test predictions\n",
        "print(submission.head())\n",
        "\n",
        "# Provide the link to download the submission file\n",
        "submission_file_path\n",
        "\n"
      ],
      "metadata": {
        "colab": {
          "base_uri": "https://localhost:8080/",
          "height": 140
        },
        "id": "cVkHmJo9ecf2",
        "outputId": "9fb743a9-e93d-4af2-e311-a7d2c3ca0900"
      },
      "execution_count": null,
      "outputs": [
        {
          "output_type": "stream",
          "name": "stdout",
          "text": [
            "  PassengerId  Transported\n",
            "0     0013_01        False\n",
            "1     0018_01        False\n",
            "2     0019_01         True\n",
            "3     0021_01         True\n",
            "4     0023_01         True\n"
          ]
        },
        {
          "output_type": "execute_result",
          "data": {
            "text/plain": [
              "'/mnt/data/submission.csv'"
            ],
            "application/vnd.google.colaboratory.intrinsic+json": {
              "type": "string"
            }
          },
          "metadata": {},
          "execution_count": 29
        }
      ]
    },
    {
      "cell_type": "markdown",
      "source": [
        "Downloading to Downlads file"
      ],
      "metadata": {
        "id": "qDasmg5yiLcu"
      }
    },
    {
      "cell_type": "code",
      "source": [
        "import os\n",
        "import pandas as pd\n",
        "from sklearn.preprocessing import LabelEncoder, StandardScaler\n",
        "from sklearn.ensemble import RandomForestClassifier\n",
        "\n",
        "# Load the test data\n",
        "test_data = pd.read_csv('/test[1].csv')\n",
        "\n",
        "# Preprocess the test data similarly\n",
        "test_data['CryoSleep'].fillna(test_data['CryoSleep'].mode()[0], inplace=True)\n",
        "test_data['VIP'].fillna(test_data['VIP'].mode()[0], inplace=True)\n",
        "test_data['Age'].fillna(test_data['Age'].median(), inplace=True)\n",
        "test_data['HomePlanet'].fillna(test_data['HomePlanet'].mode()[0], inplace=True)\n",
        "test_data['Cabin'].fillna(test_data['Cabin'].mode()[0], inplace=True)\n",
        "test_data['Destination'].fillna(test_data['Destination'].mode()[0], inplace=True)\n",
        "test_data['RoomService'].fillna(0, inplace=True)\n",
        "test_data['FoodCourt'].fillna(0, inplace=True)\n",
        "test_data['ShoppingMall'].fillna(0, inplace=True)\n",
        "test_data['Spa'].fillna(0, inplace=True)\n",
        "test_data['VRDeck'].fillna(0, inplace=True)\n",
        "\n",
        "test_data.drop(columns=['Name'], inplace=True)\n",
        "\n",
        "le = LabelEncoder()\n",
        "for column in ['HomePlanet', 'CryoSleep', 'Cabin', 'Destination', 'VIP']:\n",
        "    test_data[column] = le.fit_transform(test_data[column])\n",
        "\n",
        "# Define features\n",
        "X_test = test_data.drop(columns=['PassengerId'])\n",
        "\n",
        "# Standardize the features\n",
        "scaler = StandardScaler()\n",
        "X_test = scaler.fit_transform(X_test)\n",
        "\n",
        "# Assuming clf is already trained RandomForestClassifier\n",
        "# Uncomment the next line and comment the fitting part if the clf is already trained\n",
        "# clf = RandomForestClassifier(n_estimators=100, random_state=42)\n",
        "# clf.fit(X_test, test_data['Transported'])  # Replace with actual training\n",
        "\n",
        "# Make predictions\n",
        "test_predictions = clf.predict(X_test)\n",
        "\n",
        "# Prepare the submission file\n",
        "submission = pd.DataFrame({\n",
        "    'PassengerId': test_data['PassengerId'],\n",
        "    'Transported': test_predictions\n",
        "})\n",
        "\n",
        "# Save the submission file to the desired location\n",
        "submission_file_path = r'C:\\Users\\neogi\\Downloads\\submission.csv'\n",
        "submission.to_csv(submission_file_path, index=False)\n",
        "\n",
        "# Print the test predictions\n",
        "print(submission.head())\n"
      ],
      "metadata": {
        "colab": {
          "base_uri": "https://localhost:8080/",
          "height": 373
        },
        "id": "4EfOrX9UiPTZ",
        "outputId": "6edab791-e128-44db-d78c-91a65a75f5ca"
      },
      "execution_count": null,
      "outputs": [
        {
          "output_type": "error",
          "ename": "FileNotFoundError",
          "evalue": "[Errno 2] No such file or directory: '/test[1].csv'",
          "traceback": [
            "\u001b[0;31m---------------------------------------------------------------------------\u001b[0m",
            "\u001b[0;31mFileNotFoundError\u001b[0m                         Traceback (most recent call last)",
            "\u001b[0;32m<ipython-input-1-939650696dd3>\u001b[0m in \u001b[0;36m<cell line: 7>\u001b[0;34m()\u001b[0m\n\u001b[1;32m      5\u001b[0m \u001b[0;34m\u001b[0m\u001b[0m\n\u001b[1;32m      6\u001b[0m \u001b[0;31m# Load the test data\u001b[0m\u001b[0;34m\u001b[0m\u001b[0;34m\u001b[0m\u001b[0m\n\u001b[0;32m----> 7\u001b[0;31m \u001b[0mtest_data\u001b[0m \u001b[0;34m=\u001b[0m \u001b[0mpd\u001b[0m\u001b[0;34m.\u001b[0m\u001b[0mread_csv\u001b[0m\u001b[0;34m(\u001b[0m\u001b[0;34m'/test[1].csv'\u001b[0m\u001b[0;34m)\u001b[0m\u001b[0;34m\u001b[0m\u001b[0;34m\u001b[0m\u001b[0m\n\u001b[0m\u001b[1;32m      8\u001b[0m \u001b[0;34m\u001b[0m\u001b[0m\n\u001b[1;32m      9\u001b[0m \u001b[0;31m# Preprocess the test data similarly\u001b[0m\u001b[0;34m\u001b[0m\u001b[0;34m\u001b[0m\u001b[0m\n",
            "\u001b[0;32m/usr/local/lib/python3.10/dist-packages/pandas/io/parsers/readers.py\u001b[0m in \u001b[0;36mread_csv\u001b[0;34m(filepath_or_buffer, sep, delimiter, header, names, index_col, usecols, dtype, engine, converters, true_values, false_values, skipinitialspace, skiprows, skipfooter, nrows, na_values, keep_default_na, na_filter, verbose, skip_blank_lines, parse_dates, infer_datetime_format, keep_date_col, date_parser, date_format, dayfirst, cache_dates, iterator, chunksize, compression, thousands, decimal, lineterminator, quotechar, quoting, doublequote, escapechar, comment, encoding, encoding_errors, dialect, on_bad_lines, delim_whitespace, low_memory, memory_map, float_precision, storage_options, dtype_backend)\u001b[0m\n\u001b[1;32m    910\u001b[0m     \u001b[0mkwds\u001b[0m\u001b[0;34m.\u001b[0m\u001b[0mupdate\u001b[0m\u001b[0;34m(\u001b[0m\u001b[0mkwds_defaults\u001b[0m\u001b[0;34m)\u001b[0m\u001b[0;34m\u001b[0m\u001b[0;34m\u001b[0m\u001b[0m\n\u001b[1;32m    911\u001b[0m \u001b[0;34m\u001b[0m\u001b[0m\n\u001b[0;32m--> 912\u001b[0;31m     \u001b[0;32mreturn\u001b[0m \u001b[0m_read\u001b[0m\u001b[0;34m(\u001b[0m\u001b[0mfilepath_or_buffer\u001b[0m\u001b[0;34m,\u001b[0m \u001b[0mkwds\u001b[0m\u001b[0;34m)\u001b[0m\u001b[0;34m\u001b[0m\u001b[0;34m\u001b[0m\u001b[0m\n\u001b[0m\u001b[1;32m    913\u001b[0m \u001b[0;34m\u001b[0m\u001b[0m\n\u001b[1;32m    914\u001b[0m \u001b[0;34m\u001b[0m\u001b[0m\n",
            "\u001b[0;32m/usr/local/lib/python3.10/dist-packages/pandas/io/parsers/readers.py\u001b[0m in \u001b[0;36m_read\u001b[0;34m(filepath_or_buffer, kwds)\u001b[0m\n\u001b[1;32m    575\u001b[0m \u001b[0;34m\u001b[0m\u001b[0m\n\u001b[1;32m    576\u001b[0m     \u001b[0;31m# Create the parser.\u001b[0m\u001b[0;34m\u001b[0m\u001b[0;34m\u001b[0m\u001b[0m\n\u001b[0;32m--> 577\u001b[0;31m     \u001b[0mparser\u001b[0m \u001b[0;34m=\u001b[0m \u001b[0mTextFileReader\u001b[0m\u001b[0;34m(\u001b[0m\u001b[0mfilepath_or_buffer\u001b[0m\u001b[0;34m,\u001b[0m \u001b[0;34m**\u001b[0m\u001b[0mkwds\u001b[0m\u001b[0;34m)\u001b[0m\u001b[0;34m\u001b[0m\u001b[0;34m\u001b[0m\u001b[0m\n\u001b[0m\u001b[1;32m    578\u001b[0m \u001b[0;34m\u001b[0m\u001b[0m\n\u001b[1;32m    579\u001b[0m     \u001b[0;32mif\u001b[0m \u001b[0mchunksize\u001b[0m \u001b[0;32mor\u001b[0m \u001b[0miterator\u001b[0m\u001b[0;34m:\u001b[0m\u001b[0;34m\u001b[0m\u001b[0;34m\u001b[0m\u001b[0m\n",
            "\u001b[0;32m/usr/local/lib/python3.10/dist-packages/pandas/io/parsers/readers.py\u001b[0m in \u001b[0;36m__init__\u001b[0;34m(self, f, engine, **kwds)\u001b[0m\n\u001b[1;32m   1405\u001b[0m \u001b[0;34m\u001b[0m\u001b[0m\n\u001b[1;32m   1406\u001b[0m         \u001b[0mself\u001b[0m\u001b[0;34m.\u001b[0m\u001b[0mhandles\u001b[0m\u001b[0;34m:\u001b[0m \u001b[0mIOHandles\u001b[0m \u001b[0;34m|\u001b[0m \u001b[0;32mNone\u001b[0m \u001b[0;34m=\u001b[0m \u001b[0;32mNone\u001b[0m\u001b[0;34m\u001b[0m\u001b[0;34m\u001b[0m\u001b[0m\n\u001b[0;32m-> 1407\u001b[0;31m         \u001b[0mself\u001b[0m\u001b[0;34m.\u001b[0m\u001b[0m_engine\u001b[0m \u001b[0;34m=\u001b[0m \u001b[0mself\u001b[0m\u001b[0;34m.\u001b[0m\u001b[0m_make_engine\u001b[0m\u001b[0;34m(\u001b[0m\u001b[0mf\u001b[0m\u001b[0;34m,\u001b[0m \u001b[0mself\u001b[0m\u001b[0;34m.\u001b[0m\u001b[0mengine\u001b[0m\u001b[0;34m)\u001b[0m\u001b[0;34m\u001b[0m\u001b[0;34m\u001b[0m\u001b[0m\n\u001b[0m\u001b[1;32m   1408\u001b[0m \u001b[0;34m\u001b[0m\u001b[0m\n\u001b[1;32m   1409\u001b[0m     \u001b[0;32mdef\u001b[0m \u001b[0mclose\u001b[0m\u001b[0;34m(\u001b[0m\u001b[0mself\u001b[0m\u001b[0;34m)\u001b[0m \u001b[0;34m->\u001b[0m \u001b[0;32mNone\u001b[0m\u001b[0;34m:\u001b[0m\u001b[0;34m\u001b[0m\u001b[0;34m\u001b[0m\u001b[0m\n",
            "\u001b[0;32m/usr/local/lib/python3.10/dist-packages/pandas/io/parsers/readers.py\u001b[0m in \u001b[0;36m_make_engine\u001b[0;34m(self, f, engine)\u001b[0m\n\u001b[1;32m   1659\u001b[0m                 \u001b[0;32mif\u001b[0m \u001b[0;34m\"b\"\u001b[0m \u001b[0;32mnot\u001b[0m \u001b[0;32min\u001b[0m \u001b[0mmode\u001b[0m\u001b[0;34m:\u001b[0m\u001b[0;34m\u001b[0m\u001b[0;34m\u001b[0m\u001b[0m\n\u001b[1;32m   1660\u001b[0m                     \u001b[0mmode\u001b[0m \u001b[0;34m+=\u001b[0m \u001b[0;34m\"b\"\u001b[0m\u001b[0;34m\u001b[0m\u001b[0;34m\u001b[0m\u001b[0m\n\u001b[0;32m-> 1661\u001b[0;31m             self.handles = get_handle(\n\u001b[0m\u001b[1;32m   1662\u001b[0m                 \u001b[0mf\u001b[0m\u001b[0;34m,\u001b[0m\u001b[0;34m\u001b[0m\u001b[0;34m\u001b[0m\u001b[0m\n\u001b[1;32m   1663\u001b[0m                 \u001b[0mmode\u001b[0m\u001b[0;34m,\u001b[0m\u001b[0;34m\u001b[0m\u001b[0;34m\u001b[0m\u001b[0m\n",
            "\u001b[0;32m/usr/local/lib/python3.10/dist-packages/pandas/io/common.py\u001b[0m in \u001b[0;36mget_handle\u001b[0;34m(path_or_buf, mode, encoding, compression, memory_map, is_text, errors, storage_options)\u001b[0m\n\u001b[1;32m    857\u001b[0m         \u001b[0;32mif\u001b[0m \u001b[0mioargs\u001b[0m\u001b[0;34m.\u001b[0m\u001b[0mencoding\u001b[0m \u001b[0;32mand\u001b[0m \u001b[0;34m\"b\"\u001b[0m \u001b[0;32mnot\u001b[0m \u001b[0;32min\u001b[0m \u001b[0mioargs\u001b[0m\u001b[0;34m.\u001b[0m\u001b[0mmode\u001b[0m\u001b[0;34m:\u001b[0m\u001b[0;34m\u001b[0m\u001b[0;34m\u001b[0m\u001b[0m\n\u001b[1;32m    858\u001b[0m             \u001b[0;31m# Encoding\u001b[0m\u001b[0;34m\u001b[0m\u001b[0;34m\u001b[0m\u001b[0m\n\u001b[0;32m--> 859\u001b[0;31m             handle = open(\n\u001b[0m\u001b[1;32m    860\u001b[0m                 \u001b[0mhandle\u001b[0m\u001b[0;34m,\u001b[0m\u001b[0;34m\u001b[0m\u001b[0;34m\u001b[0m\u001b[0m\n\u001b[1;32m    861\u001b[0m                 \u001b[0mioargs\u001b[0m\u001b[0;34m.\u001b[0m\u001b[0mmode\u001b[0m\u001b[0;34m,\u001b[0m\u001b[0;34m\u001b[0m\u001b[0;34m\u001b[0m\u001b[0m\n",
            "\u001b[0;31mFileNotFoundError\u001b[0m: [Errno 2] No such file or directory: '/test[1].csv'"
          ]
        }
      ]
    }
  ]
}